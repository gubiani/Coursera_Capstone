{
 "cells": [
  {
   "cell_type": "markdown",
   "metadata": {},
   "source": [
    "<p style=\"align:left;\">\n",
    "    <img src=\"https://upload.wikimedia.org/wikipedia/commons/6/64/Rome_banner_panorama.jpg\" style=\"width:100%;\"><br>\n",
    "    <span style=\"font-size:80%;\">Source: <a href=\"https://it.wikivoyage.org/wiki/Roma\">https://it.wikivoyage.org/wiki/Roma</a></span>\n",
    "</p>\n",
    "\n",
    "<h1 align=center>The Battle of Neighborhoods<br>\n",
    "    - Introduction -</h1>"
   ]
  },
  {
   "cell_type": "markdown",
   "metadata": {},
   "source": [
    "<p>Rome is one of the most interesting tourist destinations in the world, due to its immense artistic and cultural heritage. There are a lot of monuments: Colosseo, Il Vittoriano (or Altare della Patria), Pantheon, Fontana di Trevi, ... [<a href=\"https://www.expedia.it/explore/i-30-monumenti-a-roma-da-visitare\">https://www.expedia.it/</a>]\n",
    "Beside to many monuments, in Rome there are many other places of interest for a tourist. In particular, as the Italian capital, there are a lot of restaurants that allow tourists to eat wonderful Italian food! If you are going to go to Rome, you cannot taste some of the most typical Italian and Roman dishes, such as cacio e pepe, gnocchi alla romana, abbacchio a scottadito, carciofi alla giudia, crostata di ricotta, ... [<a href=\"https://www.gamberorosso.it/notizie/storie/piatti-tipici-romani-quali-sono-la-loro-storia-dove-mangiarli/\">https://www.gamberorosso.it/</a>]</p>\n",
    "\n",
    "<p>In order plan a travel in Rome, and to decide where it is better to reserve a hotel, it is important to evaluate where different intresting venues are located. Beside a global analysis about venues, I would like to focus my analysis on both main monuments and italian restaurants</p> "
   ]
  },
  {
   "cell_type": "markdown",
   "metadata": {},
   "source": [
    "<p>In order to perform my analysis, it is important to know how Rome is organized. Its territory is divided into three types of areas: administrative, urban and historical areas. Since 2013, the Rome Capital Statute has reorganized the administrative areas dividing Rome in 15 municipalities. Rome is also divided into differing types of non-administrative units. The historic centre is divided into 22 rioni, externally there are 35 “quartieri”, 6 “suburbi” and 52 “zone”. For more uniformity, I will consider the the 15 municipalities..</p>\n",
    "<table>\n",
    "<tr>\n",
    "    <td>15 municipalities<br>\n",
    "    <span style=\"font-size:80%;\">Source: <a href=\"https://it.m.wikipedia.org/wiki/Suddivisioni_di_Roma\">https://it.m.wikipedia.org/</a></span>\n",
    "    </td>\n",
    "    <td><img src=\"https://upload.wikimedia.org/wikipedia/commons/e/eb/Roma_-_Municipi_numerata.png\" style=\"width:60%;\"/>\n",
    "    </td>\n",
    "</tr>"
   ]
  }
 ],
 "metadata": {
  "kernelspec": {
   "display_name": "Python",
   "language": "python",
   "name": "conda-env-python-py"
  },
  "language_info": {
   "codemirror_mode": {
    "name": "ipython",
    "version": 3
   },
   "file_extension": ".py",
   "mimetype": "text/x-python",
   "name": "python",
   "nbconvert_exporter": "python",
   "pygments_lexer": "ipython3",
   "version": "3.6.7"
  }
 },
 "nbformat": 4,
 "nbformat_minor": 4
}
